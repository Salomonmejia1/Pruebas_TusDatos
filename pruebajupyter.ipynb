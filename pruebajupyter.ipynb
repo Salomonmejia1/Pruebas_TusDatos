{
 "cells": [
  {
   "cell_type": "code",
   "execution_count": 1,
   "metadata": {},
   "outputs": [],
   "source": [
    "from selenium import webdriver\n",
    "from selenium.webdriver.support import expected_conditions as EC\n",
    "from selenium.webdriver.common.by import By\n",
    "from selenium.webdriver.support.wait import WebDriverWait\n",
    "from selenium.webdriver.chrome.service import Service\n",
    "from concurrent.futures import ThreadPoolExecutor, as_completed\n",
    "import time\n",
    "import json"
   ]
  },
  {
   "cell_type": "code",
   "execution_count": 2,
   "metadata": {},
   "outputs": [],
   "source": [
    "def consulta_per_autor(ids):  \n",
    "    options = webdriver.ChromeOptions()\n",
    "    options.add_argument(\"--start-maximized\")\n",
    "    options.add_argument(\"--disable-extensions\")\n",
    "    #options.add_argument('--headless')  # Ejecutar en modo headless (sin ventana gráfica)\n",
    "\n",
    "    s = Service(r\"chromedriver-win32\\chromedriver.exe\")\n",
    "    driver = webdriver.Chrome(service=s, options=options) \n",
    "\n",
    "    # inicializando el navegador\n",
    "    driver.get(\"https://procesosjudiciales.funcionjudicial.gob.ec/busqueda-filtros\")\n",
    "        \n",
    "    try:\n",
    "        element1 = (By.ID,'mat-input-1')\n",
    "        element2 = (By.CSS_SELECTOR, \"button.boton-buscar mdc-button mdc-button--raised mat-mdc-raised-button mat-accent mat-mdc-button-base\".replace(\" \",\".\"))\n",
    "        \n",
    "\n",
    "        tarea1 = WebDriverWait(driver, 5)\\\n",
    "                    .until(EC.visibility_of_element_located(element1))\n",
    "        tarea1.send_keys(str(ids))\n",
    "        tarea2 = WebDriverWait(driver,5).until(EC.element_to_be_clickable(element2))\n",
    "        tarea2.click()\n",
    "        try:\n",
    "            element3 = (By.XPATH, \"/html/body/app-root/app-expel-listado-juicios/expel-sidenav/mat-sidenav-container/mat-sidenav-content/section/section\")\n",
    "            tarea3 = WebDriverWait(driver,10).until(EC.element_to_be_clickable(element3)) #uso dependiendo de la velocidad de conexion\n",
    "            texto_informacion = driver.find_element(By.XPATH,\"/html/body/app-root/app-expel-listado-juicios/expel-sidenav/mat-sidenav-container/mat-sidenav-content/section/section\")\n",
    "            texto_columnas = texto_informacion.text.split(\"\\n\")\n",
    "            cons_no = int(len(texto_columnas)/5 -1)\n",
    "            text_process = {}\n",
    "                        \n",
    "            for i in range(0,cons_no, 1):\n",
    "                element4 = (By.XPATH,f\"/html/body/app-root/app-expel-listado-juicios/expel-sidenav/mat-sidenav-container/mat-sidenav-content/section/section/div[2]/div[{i+1}]/div[5]/a/mat-icon\")\n",
    "                tarea4 = WebDriverWait(driver,20).until(EC.element_to_be_clickable(element4))\n",
    "                tarea4.click()\n",
    "                element5 = (By.XPATH,f\"/html/body/app-root/app-expel-listado-movimientos/expel-sidenav/mat-sidenav-container/mat-sidenav-content/section/section/div/div[2]/div/div[2]/div/div[5]/a/mat-icon\" )\n",
    "                tarea5 = WebDriverWait(driver,20).until(EC.element_to_be_clickable(element5))\n",
    "                tarea5.click()\n",
    "                element6 = (By.XPATH,\"/html/body/app-root/app-expel-listado-actuaciones/expel-sidenav/mat-sidenav-container/mat-sidenav-content/section/section[2]/header/section[1]/section[2]/div/button[1]/span[2]\")\n",
    "                tarea6 = WebDriverWait(driver,20).until(EC.element_to_be_clickable(element6))\n",
    "                tarea6.click()\n",
    "                text_info = driver.find_element(By.XPATH, \"/html/body/app-root/app-expel-listado-actuaciones/expel-sidenav/mat-sidenav-container/mat-sidenav-content/section/expel-informacion-busqueda/header\")\n",
    "                texto_columnas_info = text_info.text.split(\"\\n\")[6:] \n",
    "                text_process[f\"Datos generales {i+1}\"] = texto_columnas_info\n",
    "                text_details = driver.find_element(By.XPATH, \"/html/body/app-root/app-expel-listado-actuaciones/expel-sidenav/mat-sidenav-container/mat-sidenav-content/section/section[2]/mat-accordion\")\n",
    "                texto_columnas_details = text_details.text.split(\"\\n\")\n",
    "                text_process[f\"Detalles {i+1}\"] = texto_columnas_details\n",
    "                element7 = (By.CSS_SELECTOR,\"button.botones btn-regresar mdc-button mat-mdc-button mat-primary mat-mdc-button-base\".replace(\" \",\".\")) \n",
    "                tarea7 =WebDriverWait(driver,30).until(EC.element_to_be_clickable(element7))\n",
    "                tarea7.click()\n",
    "                tarea8 = WebDriverWait(driver,30).until(EC.element_to_be_clickable(element7))\n",
    "                tarea8.click()\n",
    "                            \n",
    "        except: \n",
    "            texto_informacion = f\"El Id{ids} no tiene información\"\n",
    "            text_process= texto_informacion.split(\"\\n\")\n",
    "            \n",
    "    except Exception as e:    \n",
    "        print(f\"el ID: {ids} no tiene informacion\")\n",
    "    finally: \n",
    "        driver.quit()\n",
    "    return ids, text_process"
   ]
  },
  {
   "cell_type": "code",
   "execution_count": 3,
   "metadata": {},
   "outputs": [],
   "source": [
    "def paralelizar_consultas(ids, max_workers=10):\n",
    "    resultados = []\n",
    "    with ThreadPoolExecutor(max_workers=max_workers) as executor:\n",
    "        future_to_id = {executor.submit(consulta_per_autor, id): id for id in ids}\n",
    "        for future in as_completed(future_to_id):\n",
    "            id = future_to_id[future]\n",
    "            try:\n",
    "                id, data = future.result()\n",
    "                if data:\n",
    "                    resultados.append((id, data))\n",
    "                    print(f\"consulta {id} realizada\")\n",
    "            except Exception as exc:\n",
    "                print(f'Error en la consulta del ID {id}: {exc}')\n",
    "    \n",
    "    return resultados"
   ]
  },
  {
   "cell_type": "code",
   "execution_count": 4,
   "metadata": {},
   "outputs": [],
   "source": [
    "consultas = [\"0968599020001\", \"0992339411001\"]"
   ]
  },
  {
   "cell_type": "code",
   "execution_count": 6,
   "metadata": {},
   "outputs": [
    {
     "name": "stdout",
     "output_type": "stream",
     "text": [
      "Error en la consulta del ID 0968599020001: Message: unknown error: net::ERR_CONNECTION_TIMED_OUT\n",
      "  (Session info: chrome=126.0.6478.115)\n",
      "Stacktrace:\n",
      "\tGetHandleVerifier [0x00410ED3+27667]\n",
      "\t(No symbol) [0x003A6BD4]\n",
      "\t(No symbol) [0x002A1AFF]\n",
      "\t(No symbol) [0x0029A17B]\n",
      "\t(No symbol) [0x0028F1A9]\n",
      "\t(No symbol) [0x0028DF93]\n",
      "\t(No symbol) [0x0028DB43]\n",
      "\t(No symbol) [0x0028D92E]\n",
      "\t(No symbol) [0x0028BD79]\n",
      "\t(No symbol) [0x0028C23B]\n",
      "\t(No symbol) [0x002A42D4]\n",
      "\t(No symbol) [0x0031D237]\n",
      "\t(No symbol) [0x0030392C]\n",
      "\t(No symbol) [0x0031CAC7]\n",
      "\t(No symbol) [0x003036C6]\n",
      "\t(No symbol) [0x002D74D1]\n",
      "\t(No symbol) [0x002D804D]\n",
      "\tGetHandleVerifier [0x006C3D43+2857603]\n",
      "\tGetHandleVerifier [0x00717EAD+3202029]\n",
      "\tGetHandleVerifier [0x004946D4+566292]\n",
      "\tGetHandleVerifier [0x0049B8CC+595468]\n",
      "\t(No symbol) [0x003AF9C4]\n",
      "\t(No symbol) [0x003AC6D8]\n",
      "\t(No symbol) [0x003AC877]\n",
      "\t(No symbol) [0x0039E76E]\n",
      "\tBaseThreadInitThunk [0x7676FCC9+25]\n",
      "\tRtlGetAppContainerNamedObjectPath [0x771E80CE+286]\n",
      "\tRtlGetAppContainerNamedObjectPath [0x771E809E+238]\n",
      "\n",
      "Error en la consulta del ID 0992339411001: Message: unknown error: net::ERR_CONNECTION_TIMED_OUT\n",
      "  (Session info: chrome=126.0.6478.115)\n",
      "Stacktrace:\n",
      "\tGetHandleVerifier [0x00410ED3+27667]\n",
      "\t(No symbol) [0x003A6BD4]\n",
      "\t(No symbol) [0x002A1AFF]\n",
      "\t(No symbol) [0x0029A17B]\n",
      "\t(No symbol) [0x0028F1A9]\n",
      "\t(No symbol) [0x0028DF93]\n",
      "\t(No symbol) [0x0028DB43]\n",
      "\t(No symbol) [0x0028D92E]\n",
      "\t(No symbol) [0x0028BD79]\n",
      "\t(No symbol) [0x0028C23B]\n",
      "\t(No symbol) [0x002A42D4]\n",
      "\t(No symbol) [0x0031D237]\n",
      "\t(No symbol) [0x0030392C]\n",
      "\t(No symbol) [0x0031CAC7]\n",
      "\t(No symbol) [0x003036C6]\n",
      "\t(No symbol) [0x002D74D1]\n",
      "\t(No symbol) [0x002D804D]\n",
      "\tGetHandleVerifier [0x006C3D43+2857603]\n",
      "\tGetHandleVerifier [0x00717EAD+3202029]\n",
      "\tGetHandleVerifier [0x004946D4+566292]\n",
      "\tGetHandleVerifier [0x0049B8CC+595468]\n",
      "\t(No symbol) [0x003AF9C4]\n",
      "\t(No symbol) [0x003AC6D8]\n",
      "\t(No symbol) [0x003AC877]\n",
      "\t(No symbol) [0x0039E76E]\n",
      "\tBaseThreadInitThunk [0x7676FCC9+25]\n",
      "\tRtlGetAppContainerNamedObjectPath [0x771E80CE+286]\n",
      "\tRtlGetAppContainerNamedObjectPath [0x771E809E+238]\n",
      "\n"
     ]
    }
   ],
   "source": [
    "resultados= paralelizar_consultas(consultas)"
   ]
  },
  {
   "cell_type": "code",
   "execution_count": 227,
   "metadata": {},
   "outputs": [],
   "source": [
    "def procesar_datos(data):\n",
    "    resultados = []\n",
    "    for id_value, valores in data:\n",
    "        encabezados = ['No.', 'Fecha de ingreso', 'No. proceso', 'Acción /Infracción', 'Detalle']\n",
    "        valores_procesados = valores[5:]  # Saltar los encabezados\n",
    "        entradas = []\n",
    "\n",
    "        for i in range(0, len(valores_procesados), len(encabezados)):\n",
    "            entrada = dict(zip(encabezados, valores_procesados[i:i+len(encabezados)]))\n",
    "            entradas.append(entrada)\n",
    "\n",
    "        resultados.append({\n",
    "            \"ID\": id_value,\n",
    "            \"Entradas\": entradas\n",
    "        })\n",
    "    \n",
    "    return resultados"
   ]
  },
  {
   "cell_type": "code",
   "execution_count": 96,
   "metadata": {},
   "outputs": [],
   "source": [
    "with open(\"prueba3.json\", \"w\", encoding='utf8') as json_file:\n",
    "    json.dump(resultados, json_file, ensure_ascii=False, indent=4)"
   ]
  },
  {
   "cell_type": "code",
   "execution_count": null,
   "metadata": {},
   "outputs": [],
   "source": []
  },
  {
   "cell_type": "code",
   "execution_count": null,
   "metadata": {},
   "outputs": [],
   "source": [
    "def data_precessing(data):\n",
    "    json_data = {}\n",
    "    for i in range(0, len(data), 2):\n",
    "        key = data[i].strip()\n",
    "        value = data[i+1].strip() if i+1 < len(data) else ''\n",
    "        json_data[key] = value\n",
    "\n",
    "    return json_data    "
   ]
  },
  {
   "cell_type": "code",
   "execution_count": null,
   "metadata": {},
   "outputs": [],
   "source": [
    "titulos = ['Número de proceso',\n",
    " 'Fecha ingreso',\n",
    " 'Materia',\n",
    " 'Tipo de acción',\n",
    " 'Delito/Asunto',\n",
    " 'Judicatura',\n",
    " 'Tipo de Ingreso',\n",
    " 'No. proceso vinculado',\n",
    " 'Actor/Ofendido:',\n",
    " 'Demandado/Procesado:']"
   ]
  },
  {
   "cell_type": "code",
   "execution_count": 176,
   "metadata": {},
   "outputs": [],
   "source": [
    "def add_data (resultados):\n",
    "    for resultado in resultados:\n",
    "        interations = int(len(resultado[1])/2)\n",
    "        for j in range(interations):\n",
    "            for i in range(len(titulos) - 1):\n",
    "                if titulos[i] in resultado[1][f\"Datos generales {j+1}\"] and titulos[i+1] in resultado[1][f\"Datos generales {j+1}\"]:\n",
    "                    index_i = resultado[1][f\"Datos generales {j+1}\"].index(titulos[i])\n",
    "                    index_i1 = resultado[1][f\"Datos generales {j+1}\"].index(titulos[i+1])\n",
    "                    if abs(index_i1 - index_i) < 2:\n",
    "                        resultado[1][f\"Datos generales {j+1}\"].insert(index_i1, \" \")\n",
    "                resultado[1][f\"Datos generales {j+1}\"] = data_precessing(resultado[1][f\"Datos generales {j+1}\"])\n",
    "                        \n",
    "            \n",
    "        \n",
    "        \n",
    "    return resultados\n",
    "    # Puedes añadir un else si quieres hacer algo si titulos[i] o titulos[i+1] no están en pruebas\n",
    "\n"
   ]
  },
  {
   "cell_type": "code",
   "execution_count": 175,
   "metadata": {},
   "outputs": [
    {
     "data": {
      "text/plain": [
       "['Número de proceso',\n",
       " '13284202419612',\n",
       " 'Fecha ingreso',\n",
       " '07/06/2024 19:02',\n",
       " 'Materia',\n",
       " 'CONSTITUCIONAL',\n",
       " 'Tipo de acción',\n",
       " 'GARANTÍAS JURISDICCIONALES DE LOS DERECHOS CONSTITUCIONALES',\n",
       " 'Delito/Asunto',\n",
       " 'MEDIDA CAUTELAR',\n",
       " 'Judicatura',\n",
       " 'UNIDAD JUDICIAL PENAL DE MANTA',\n",
       " 'Actor/Ofendido:',\n",
       " 'Empresa Electrica Publica Estrategica Corporacion Nacional De Electricidad Cnel Ep',\n",
       " 'Demandado/Procesado:',\n",
       " 'Agencia De Regulacion Y Control De Energia Y Recursos Naturales No Renovables (Arcernnr), En La Persona Del Director Ejecutivo Juan Carlos Herrrera Heredia']"
      ]
     },
     "execution_count": 175,
     "metadata": {},
     "output_type": "execute_result"
    }
   ],
   "source": [
    "add_data(resultados)\n"
   ]
  },
  {
   "cell_type": "code",
   "execution_count": 173,
   "metadata": {},
   "outputs": [
    {
     "data": {
      "text/plain": [
       "{'Número de proceso': '09286202202415G',\n",
       " 'Fecha ingreso': '06/05/2022 11:14',\n",
       " 'Materia': 'CONTRAVENCIONES COIP',\n",
       " 'Tipo de acción': 'DILIGENCIAS PREPROCESALES',\n",
       " 'Delito/Asunto': 'SOLICITUD DE OFICIO',\n",
       " 'Judicatura': 'UNIDAD JUDICIAL NORTE 2 PENAL CON SEDE EN EL CANTÓN GUAYAQUIL, PROVINCIA DEL GUAYAS',\n",
       " 'Tipo de Ingreso': 'Ingreso directo',\n",
       " 'No. proceso vinculado': '',\n",
       " 'Actor/Ofendido:': 'Imveresa Importadora De Vehiculos Y Repuestos S.a.',\n",
       " 'Demandado/Procesado:': ''}"
      ]
     },
     "execution_count": 173,
     "metadata": {},
     "output_type": "execute_result"
    }
   ],
   "source": [
    "data_precessing(resultados[1][1][\"Datos generales 5\"])\n"
   ]
  },
  {
   "cell_type": "code",
   "execution_count": null,
   "metadata": {},
   "outputs": [],
   "source": []
  }
 ],
 "metadata": {
  "kernelspec": {
   "display_name": "venprueba",
   "language": "python",
   "name": "python3"
  },
  "language_info": {
   "codemirror_mode": {
    "name": "ipython",
    "version": 3
   },
   "file_extension": ".py",
   "mimetype": "text/x-python",
   "name": "python",
   "nbconvert_exporter": "python",
   "pygments_lexer": "ipython3",
   "version": "3.10.11"
  }
 },
 "nbformat": 4,
 "nbformat_minor": 2
}
