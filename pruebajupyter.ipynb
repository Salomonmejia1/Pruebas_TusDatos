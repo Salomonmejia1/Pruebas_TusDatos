{
 "cells": [
  {
   "cell_type": "code",
   "execution_count": 1,
   "metadata": {},
   "outputs": [],
   "source": [
    "from selenium import webdriver\n",
    "from selenium.webdriver.support import expected_conditions as EC\n",
    "from selenium.webdriver.common.by import By\n",
    "from selenium.webdriver.support.wait import WebDriverWait\n",
    "from selenium.webdriver.chrome.service import Service\n",
    "from concurrent.futures import ThreadPoolExecutor, as_completed\n",
    "import time\n",
    "import json"
   ]
  },
  {
   "cell_type": "code",
   "execution_count": 2,
   "metadata": {},
   "outputs": [],
   "source": [
    "def consulta_per_autor(ids):  \n",
    "    options = webdriver.ChromeOptions()\n",
    "    options.add_argument(\"--start-maximized\")\n",
    "    options.add_argument(\"--disable-extensions\")\n",
    "    #options.add_argument('--headless')  # Ejecutar en modo headless (sin ventana gráfica)\n",
    "\n",
    "    s = Service(r\"chromedriver-win32\\chromedriver.exe\")\n",
    "    driver = webdriver.Chrome(service=s, options=options) \n",
    "\n",
    "    # inicializando el navegador\n",
    "    driver.get(\"https://procesosjudiciales.funcionjudicial.gob.ec/busqueda-filtros\")\n",
    "        \n",
    "    try:\n",
    "        element1 = (By.ID,'mat-input-1')\n",
    "        element2 = (By.CSS_SELECTOR, \"button.boton-buscar mdc-button mdc-button--raised mat-mdc-raised-button mat-accent mat-mdc-button-base\".replace(\" \",\".\"))\n",
    "        \n",
    "\n",
    "        tarea1 = WebDriverWait(driver, 5)\\\n",
    "                    .until(EC.visibility_of_element_located(element1))\n",
    "        tarea1.send_keys(str(ids))\n",
    "        tarea2 = WebDriverWait(driver,5).until(EC.element_to_be_clickable(element2))\n",
    "        tarea2.click()\n",
    "        try:\n",
    "            element3 = (By.XPATH, \"/html/body/app-root/app-expel-listado-juicios/expel-sidenav/mat-sidenav-container/mat-sidenav-content/section/section\")\n",
    "            tarea3 = WebDriverWait(driver,10).until(EC.element_to_be_clickable(element3)) #uso dependiendo de la velocidad de conexion\n",
    "            texto_informacion = driver.find_element(By.XPATH,\"/html/body/app-root/app-expel-listado-juicios/expel-sidenav/mat-sidenav-container/mat-sidenav-content/section/section\")\n",
    "            texto_columnas = texto_informacion.text.split(\"\\n\")\n",
    "            cons_no = int(len(texto_columnas)/5 -1)\n",
    "            text_process = {}\n",
    "                        \n",
    "            for i in range(0,cons_no, 1):\n",
    "                element4 = (By.XPATH,f\"/html/body/app-root/app-expel-listado-juicios/expel-sidenav/mat-sidenav-container/mat-sidenav-content/section/section/div[2]/div[{i+1}]/div[5]/a/mat-icon\")\n",
    "                tarea4 = WebDriverWait(driver,20).until(EC.element_to_be_clickable(element4))\n",
    "                tarea4.click()\n",
    "                element5 = (By.XPATH,f\"/html/body/app-root/app-expel-listado-movimientos/expel-sidenav/mat-sidenav-container/mat-sidenav-content/section/section/div/div[2]/div/div[2]/div/div[5]/a/mat-icon\" )\n",
    "                tarea5 = WebDriverWait(driver,20).until(EC.element_to_be_clickable(element5))\n",
    "                tarea5.click()\n",
    "                element6 = (By.XPATH,\"/html/body/app-root/app-expel-listado-actuaciones/expel-sidenav/mat-sidenav-container/mat-sidenav-content/section/section[2]/header/section[1]/section[2]/div/button[1]/span[2]\")\n",
    "                tarea6 = WebDriverWait(driver,20).until(EC.element_to_be_clickable(element6))\n",
    "                tarea6.click()\n",
    "                text_info = driver.find_element(By.XPATH, \"/html/body/app-root/app-expel-listado-actuaciones/expel-sidenav/mat-sidenav-container/mat-sidenav-content/section/expel-informacion-busqueda/header\")\n",
    "                texto_columnas_info = text_info.text.split(\"\\n\")[6:] \n",
    "                text_process[f\"Datos generales {i+1}\"] = texto_columnas_info\n",
    "                text_details = driver.find_element(By.XPATH, \"/html/body/app-root/app-expel-listado-actuaciones/expel-sidenav/mat-sidenav-container/mat-sidenav-content/section/section[2]/mat-accordion\")\n",
    "                texto_columnas_details = text_details.text.split(\"\\n\")\n",
    "                text_process[f\"Detalles {i+1}\"] = texto_columnas_details\n",
    "                element7 = (By.CSS_SELECTOR,\"button.botones btn-regresar mdc-button mat-mdc-button mat-primary mat-mdc-button-base\".replace(\" \",\".\")) \n",
    "                tarea7 =WebDriverWait(driver,30).until(EC.element_to_be_clickable(element7))\n",
    "                tarea7.click()\n",
    "                tarea8 = WebDriverWait(driver,30).until(EC.element_to_be_clickable(element7))\n",
    "                tarea8.click()\n",
    "                            \n",
    "        except: \n",
    "            texto_informacion = f\"El Id{ids} no tiene información\"\n",
    "            text_process= texto_informacion.split(\"\\n\")\n",
    "            \n",
    "    except Exception as e:    \n",
    "        print(f\"el ID: {ids} no tiene informacion\")\n",
    "    finally: \n",
    "        driver.quit()\n",
    "    return ids, text_process"
   ]
  },
  {
   "cell_type": "code",
   "execution_count": 3,
   "metadata": {},
   "outputs": [],
   "source": [
    "def paralelizar_consultas(ids, max_workers=10):\n",
    "    resultados = []\n",
    "    with ThreadPoolExecutor(max_workers=max_workers) as executor:\n",
    "        future_to_id = {executor.submit(consulta_per_autor, id): id for id in ids}\n",
    "        for future in as_completed(future_to_id):\n",
    "            id = future_to_id[future]\n",
    "            try:\n",
    "                id, data = future.result()\n",
    "                if data:\n",
    "                    resultados.append((id, data))\n",
    "                    print(f\"consulta {id} realizada\")\n",
    "            except Exception as exc:\n",
    "                print(f'Error en la consulta del ID {id}: {exc}')\n",
    "    \n",
    "    return resultados"
   ]
  },
  {
   "cell_type": "code",
   "execution_count": 3,
   "metadata": {},
   "outputs": [],
   "source": []
  },
  {
   "cell_type": "code",
   "execution_count": 7,
   "metadata": {},
   "outputs": [],
   "source": [
    "consultas = [\"0968599020001\"]#, \"0992339411001\"]"
   ]
  },
  {
   "cell_type": "code",
   "execution_count": 57,
   "metadata": {},
   "outputs": [
    {
     "name": "stdout",
     "output_type": "stream",
     "text": [
      "consulta 0968599020001 realizada\n"
     ]
    }
   ],
   "source": [
    "resultados_= paralelizar_consultas(consultas)"
   ]
  },
  {
   "cell_type": "code",
   "execution_count": 40,
   "metadata": {},
   "outputs": [],
   "source": [
    "def procesar_datos(data):\n",
    "    resultados = []\n",
    "    for id_value, valores in data:\n",
    "        encabezados = ['No.', 'Fecha de ingreso', 'No. proceso', 'Acción /Infracción', 'Detalle']\n",
    "        valores_procesados = valores[5:]  # Saltar los encabezados\n",
    "        entradas = []\n",
    "\n",
    "        for i in range(0, len(valores_procesados), len(encabezados)):\n",
    "            entrada = dict(zip(encabezados, valores_procesados[i:i+len(encabezados)]))\n",
    "            entradas.append(entrada)\n",
    "\n",
    "        resultados.append({\n",
    "            \"ID\": id_value,\n",
    "            \"Entradas\": entradas\n",
    "        })\n",
    "    \n",
    "    return resultados"
   ]
  },
  {
   "cell_type": "code",
   "execution_count": 58,
   "metadata": {},
   "outputs": [],
   "source": [
    "def data_precessing(data):\n",
    "    json_data = {}\n",
    "    for i in range(0, len(data), 2):\n",
    "        key = data[i].strip()\n",
    "        value = data[i+1].strip() if i+1 < len(data) else ''\n",
    "        json_data[key] = value\n",
    "\n",
    "    return json_data    "
   ]
  },
  {
   "cell_type": "code",
   "execution_count": 51,
   "metadata": {},
   "outputs": [],
   "source": []
  },
  {
   "cell_type": "code",
   "execution_count": 59,
   "metadata": {},
   "outputs": [],
   "source": [
    "def add_data (data):\n",
    "    titulos = ['Número de proceso',\n",
    "                'Fecha ingreso',\n",
    "                'Materia',\n",
    "                'Tipo de acción',\n",
    "                'Delito/Asunto',\n",
    "                'Judicatura',\n",
    "                'Tipo de Ingreso',\n",
    "                'No. proceso vinculado',\n",
    "                'Actor/Ofendido:',\n",
    "                'Demandado/Procesado:']\n",
    "    for resultado in data:\n",
    "        interations = int(len(resultado[1])/2)\n",
    "        for j in range(interations):\n",
    "            for i in range(len(titulos) - 1):\n",
    "                if titulos[i] in resultado[1][f\"Datos generales {j+1}\"] and titulos[i+1] in resultado[1][f\"Datos generales {j+1}\"]:\n",
    "                    index_i = resultado[1][f\"Datos generales {j+1}\"].index(titulos[i])\n",
    "                    index_i1 = resultado[1][f\"Datos generales {j+1}\"].index(titulos[i+1])\n",
    "                    if abs(index_i1 - index_i) < 2:\n",
    "                        resultado[1][f\"Datos generales {j+1}\"].insert(index_i1, \"\")\n",
    "                                \n",
    "    return data\n"
   ]
  },
  {
   "cell_type": "code",
   "execution_count": 60,
   "metadata": {},
   "outputs": [],
   "source": [
    "resultados_add = add_data(resultados_)"
   ]
  },
  {
   "cell_type": "code",
   "execution_count": 61,
   "metadata": {},
   "outputs": [],
   "source": [
    "def data2json(data):\n",
    "\n",
    "    for resultado in data:\n",
    "        interations = int(len(resultado[1])/2)\n",
    "        for i in range (interations): \n",
    "                resultado[1][f\"Datos generales {i+1}\"] = data_precessing(resultado[1][f\"Datos generales {i+1}\"])\n",
    "\n",
    "    return data\n",
    "    "
   ]
  },
  {
   "cell_type": "code",
   "execution_count": 62,
   "metadata": {},
   "outputs": [],
   "source": [
    "resultados_finales = data2json(resultados_add)\n"
   ]
  },
  {
   "cell_type": "code",
   "execution_count": 89,
   "metadata": {},
   "outputs": [],
   "source": [
    "def details2json(data): \n",
    "    records = []\n",
    "    for i in range (0, len(data), 4): \n",
    "        record = {\n",
    "            \"Fecha\": data[i],\n",
    "            \"Tipo de Documento\": data[i+1],\n",
    "            \"Tipo de Archivo\": data[i+2],\n",
    "            \"Descripción\": data[i+3]\n",
    "    }\n",
    "        records.append(record)\n",
    "    \n",
    "    return records"
   ]
  },
  {
   "cell_type": "code",
   "execution_count": 105,
   "metadata": {},
   "outputs": [
    {
     "data": {
      "text/plain": [
       "['03/10/2023 09:54',\n",
       " 'RECHAZAR REVOCATORIA Y/O REFORMA (RAZON DE NOTIFICACION)',\n",
       " 'folder',\n",
       " 'En Quito, martes tres de octubre del dos mil veinte y tres, a partir de las nueve horas y cincuenta y cuatro minutos, mediante boletas judiciales notifiqué el AUTO DE INTERLOCUTORIO que antecede a: EMPRESA ELECTRICA PUBLICA ESTRATEGICA CORPORACION NACIONAL DE ELECTRICIDAD CNEL EP en el correo electrónico luis.cando@cnel.gob.ec, alirio.cedeno@cnel.gob.ec. EMPRESA ELECTRICA PUBLICA ESTRATEGICA CORPORACION NACIONAL DE ELECTRICIDAD CNEL EP en el casillero No.1, No se notifica a: ALMAROSELEC S.A., PROCURADURIA GENERAL DEL ESTADO, por no haber señalado casillero electrónico. Certifico:',\n",
       " '',\n",
       " '',\n",
       " '',\n",
       " '',\n",
       " '',\n",
       " '',\n",
       " '02/10/2023 12:46',\n",
       " 'RECHAZAR REVOCATORIA Y/O REFORMA (AUTO INTERLOCUTORIO)',\n",
       " 'folder',\n",
       " 'VISTOS: Agréguese al proceso el escrito que antecede.- En atención al mismo este tribunal analiza: ',\n",
       " 'PRIMERO: La parte actora en su escrito de fecha 27 septiembre 2023 las 14:23 solicita la revocatoria del auto interlocutorio de inadmisión de fecha 22 de septiembre de 2023, las 15H20.-',\n",
       " 'SEGUNDO: El art. 254 del COGEP dispone: “Art. 254.- Revocatoria y reforma.- Por la revocatoria la parte pretende que el mismo órgano jurisdiccional que pronunció un auto de sustanciación lo deje sin efecto y dicte otro en sustitución…” ',\n",
       " 'TERCERO: Con respecto a la solicitud de revocatoria del auto de fecha 27 septiembre 2023 las 14:23, revisado los recaudos procesales; la demanda del actor y el auto interlocutorio referido en su petición, el mismo contiene la debida motivación, se ha señalado con detalle las normas jurídicas y la adecuación a los hechos detallados en el acto de proposición que motivaron la decisión de este Tribunal; por l que no han variado los antecedentes fácticos, ni jurídicos por los cuales fue emitido, en tal virtud este Tribunal se ratifica en el auto de 27 septiembre 2023 las 14:23 por lo tanto se NIEGA la solicitud de revocatoria. Las partes estén a lo dispuesto en el referido auto.',\n",
       " 'Para los fines pertinentes, de conformidad con el artículo 14 de la Ley de Comercio Electrónico, se les indica a las partes procesales que la firma electrónica contenida en el presente auto, tiene igual validez y genera los mismos efectos jurídicos que la firma manuscrita.- En consecuencia no será necesario consignar la firma manuscrita en la presente actuación judicial.- Debido a la emergencia nacional y a las medidas de seguridad vigentes y en cumplimiento de la Resolución No. 078-2020 emitida por el Pleno del Consejo de la Judicatura el 16 de julio del 2020, el presente auto será notificado únicamente a los correos electrónicos que obran en el proceso.- NOTIFÍQUESE.',\n",
       " '27/09/2023 14:23',\n",
       " 'ESCRITO',\n",
       " 'folder',\n",
       " 'ANEXOS, Escrito, FePresentacion',\n",
       " '22/09/2023 15:35',\n",
       " 'INADMISION DE LA DEMANDA ART. 147 # 1 (RAZON DE NOTIFICACION)',\n",
       " 'folder',\n",
       " 'En Quito, viernes veinte y dos de septiembre del dos mil veinte y tres, a partir de las quince horas y treinta y cinco minutos, mediante boletas judiciales notifiqué el AUTO DE INTERLOCUTORIO que antecede a: EMPRESA ELECTRICA PUBLICA ESTRATEGICA CORPORACION NACIONAL DE ELECTRICIDAD CNEL EP en el correo electrónico luis.cando@cnel.gob.ec, alirio.cedeno@cnel.gob.ec. EMPRESA ELECTRICA PUBLICA ESTRATEGICA CORPORACION NACIONAL DE ELECTRICIDAD CNEL EP en el casillero No.1, No se notifica a: ALMAROSELEC S.A., PROCURADURIA GENERAL DEL ESTADO, por no haber señalado casillero electrónico. Certifico:',\n",
       " '',\n",
       " '',\n",
       " '',\n",
       " '',\n",
       " '',\n",
       " '',\n",
       " '22/09/2023 15:20',\n",
       " 'INADMISION DE LA DEMANDA ART. 147 # 1 (AUTO INTERLOCUTORIO)',\n",
       " 'folder',\n",
       " 'VISTOS: PRIMERO: Comparece el Ing. Héctor Cayetano Lara Gorozabel, en calidad de Gerente (e) del PLAN DE RECONSTRUCCIÓN INTEGRAL DE LAS ZONAS AFECTADAS (PRIZA) de la EMPRESA ELÉCTRICA PÚBLICA ESTRATÉGICA CORPORACIÓN NACIONAL DE ELECTRICIDAD (CNEL EP); y, como apoderado especial del Gerente General subrogante de la EMPRESA ELÉCTRICA PÚBLICA ESTRATÉGICA CORPORACIÓN NACIONAL DE ELECTRICIDAD (CNEL EP), para presentar demandad en contra de la compañía ALMAROSELEC S.A.',\n",
       " 'SEGUNDO: 2.1.- El actor en su demanda narra lo siguiente, en la parte pertinente:',\n",
       " '“Mediante oficio No. CNEL-PRI-GSEL-2022-0001-0 de fecha 29 de abril de 2022, se comunicó la aplicación e (sic) actualización de imposición de multas, que considerando lo acumulado del incumplimiento alcanzan en suma por el valor de $ 59.200,00, considerando incumplimiento desde 08 de julio de 2021 hasta el 29 de abril de 2022.',\n",
       " '(…)',\n",
       " 'H.        El administrador de contrato emitió Memorando No. CNEL-PRI-GSEL-2022-0015-M, de fecha 30 de mayo de 2022, solicitando se realice el registro contable de los valores de las multas impuestas al contratistas a favor de CNEL EP y así mismo se genere informe económico financiero contable; la Coordinación Administrativa Financiera - PRIZA con memorando No. CNEL-PRI-CAF-2022-0571-M de fecha 29 de junio de 2022, presentó la liquidación económica contable, en la que detalla que mediante asiento contable 41-4 se realizó el registro contable del valor de USD 59.200.00 (Cincuenta y nueve mil doscientos con 00/100 Dólares de los Estados Unidos de América) por multas impuestas al contratista a favor de CNEL EP.”',\n",
       " '2.2.- Como pretensión procesal y al fijar la cuantía, el accionante establece:',\n",
       " '“PRETENSIÓN',\n",
       " 'Dando cumplimiento a lo señalado en el artículo 142.9 del COGEP, la pretensión clara y precisa que exijo es que, en sentencia se disponga lo siguiente:',\n",
       " 'Se declare el daño y perjuicio al PLAN DE RECONSTRUCCIÓN INTEGRAL DE LAS ZONAS AFECTADAS (PRIZA) de la EMPRESA ELÉCTRICA PÚBLICA ESTRATÉGICA CORPORACIÓN NACIONAL DE ELECTRICIDAD (CNEL EP), causado por la empresa ALMAROSELEC S.A. con RUC 1792378184001, y ordene el pago del valor de USD $59.200,00 (cincuenta y nueve mil doscientos con 00/100 dólares de los Estados Unidos de América) más interés de ley, por las multas no devueltas ni pagadas que se le impusieron en el contrato Nro. BID-PRIZA-CNELSTD- Dl-OB-012 que constan en la Liquidación Económica plasmada en el Acta de Entrega- Recepción Definitiva del contrato.',\n",
       " 'VIII     CUANTÍA',\n",
       " 'Dando cumplimiento a los artículos 142.10 y 144 del COGEP, señalo como cuantía de la presente acción, la suma de $ 59.200,00 CINCUENTA Y NUEVE MIL DOSCIENTOS CON 00/100 DÓLARES DE LOS ESTADOS UNIDOS DE AMÉRICA, más los intereses de Ley.”',\n",
       " 'Además señala que su demanda la establece fundamentado en el art. 326 numeral 4 literal d) del COGEP, por cuanto se trata de una controversia de contratación pública.',\n",
       " 'TERCERO.- De lo antes transcrito se desprende con claridad que el actor pretende que mediante sentencia se ordene el pago de los valores que corresponden a la liquidación de económica y contable del Contrato administrativo No. BID-PRIZA-CNELSTD-Dl-OB-O12, suscrito por el gerente del PLAN DE RECONSTRUCCIÓN INTEGRAL DE LAS ZONAS AFECTADAS (PRIZA) de la Empresa Eléctrica Pública Estratégica Corporación Nacional de Electricidad (CNEL EP), como entidad contratante, con la Compañía ALMAROSELEC S.A., RUC No. 1792378184001, cuyo objeto convenido en la cláusula tercera es la “RECONSTRUCCIÓN ALIMENTADOR JAMA CENTRO DE SUBESTACIÓN JAMA”, esto por multas impuestas contractualmente por el valor de US$ 59.200,00.',\n",
       " 'CUARTO: La Ley Orgánica de  Empresas Públicas que es la que rige a la parte accionante, en su numeral 16 establece:',\n",
       " '“Art. 11.- Deberes y atribuciones del Gerente General.- El Gerente General, como responsable de la administración y gestión de la empresa pública, tendrá los siguientes deberes y atribuciones:',\n",
       " '(…)',\n",
       " '16. Ejercer la jurisdicción coactiva en forma directa o a través de su delegado;”',\n",
       " 'En el inciso primero de la Disposición General Cuarta del mismo cuerpo legal se dispone:',\n",
       " '“Cuarta.- Jurisdicción coactiva.- (Reformado por los nums. 1 y 2 de la Disposición Reformatoria Segunda del Código s/n, R.O. 31-2S, 7-VII-2017).- Las empresas públicas tienen jurisdicción coactiva para la recaudación de los valores adeudados por sus clientes, usuarios o consumidores. La ejercerán de conformidad con lo previsto en el Código Orgánico Administrativo.”',\n",
       " 'También se debe tener presente que, respecto al cobro de valores generados a favor de las instituciones del Estado: El inciso tercero del art. 57 de la Ley Orgánica de la Contraloría General del Estado dispone:',\n",
       " '“Tendrá también competencia la Contraloría General del Estado para recaudar, incluso mediante la jurisdicción coactiva, aquellas obligaciones establecidas tanto a su favor, como al de las demás entidades, instituciones y empresas del Estado sujetas a esta ley, que no tuvieren capacidad legal para ejercer la coactiva, que sin derivarse del control de los recursos públicos, generen derechos de crédito en los términos previstos en el Código Orgánico Administrativo.”.',\n",
       " 'Por su parte, el Código Orgánico Administrativo, en plena vigencia desde julio de 2018, regula el ejercicio de la potestad coactiva a partir del art. 261 y siguientes.',\n",
       " 'QUINTO.- El art. 326 No. 4 literal e) del COGEP dispone:',\n",
       " '“Art. 326.- Acciones en el procedimiento contencioso administrativo. Se tramitarán en procedimiento contencioso administrativo las siguientes acciones:',\n",
       " '17/08/2023 16:21',\n",
       " 'ACTA DE SORTEO',\n",
       " 'folder',\n",
       " 'Recibido en la ciudad de Quito el día de hoy jueves 17 de agosto de 2023 a las 16:21 horas, el proceso Contencioso administrativo, Tipo de procedimiento: Contencioso admnistrativo, Asunto: Subjetivo, seguido por: Empresa Electrica Publica Estrategica Corporacion Nacional de Electricidad Cnel Ep, en contra de: Almaroselec S.A. Por sorteo de ley la competencia se radica en: TRIBUNAL DISTRITAL DE LO CONTENCIOSO ADMINISTRATIVO CON SEDE EN EL DISTRITO METROPOLITANO DE QUITO, PROVINCIA DE PICHINCHA, conformado por los/las Jueces/Juezas: Doctor Alban Zambonino Marco Vinicio (Ponente), Doctor Cadena Landazuri Beatriz Eneida, Velasquez Bazan Jenny Narcisa Secretaria(o) Ibujes Chamorro Danny Magdalena Proceso número 17811-2023-01639 (1) Primera Instancia Al que se adjunta los siguientes documentos: 1) PETICIÓN INICIAL (ORIGINAL) 2) ANEXA 77 FOJAS (COPIAS CERTIFICADAS/COMPULSA) Total de fojas: 1 RODRIGO JAVIER RUEDA SANTOS TÉCNICO',\n",
       " '17/08/2023 16:21',\n",
       " 'CARATULA DE JUICIO',\n",
       " 'folder',\n",
       " 'CARATULA']"
      ]
     },
     "execution_count": 105,
     "metadata": {},
     "output_type": "execute_result"
    }
   ],
   "source": [
    "resultados_finales[0][1][\"Detalles 10\"] "
   ]
  },
  {
   "cell_type": "code",
   "execution_count": 83,
   "metadata": {},
   "outputs": [],
   "source": [
    "nn = [x for x in resultados_finales[0][1][\"Detalles 4\"] if x!='']"
   ]
  },
  {
   "cell_type": "code",
   "execution_count": 85,
   "metadata": {},
   "outputs": [
    {
     "data": {
      "text/plain": [
       "['29/02/2024 10:43',\n",
       " 'ACTA DE SORTEO',\n",
       " 'folder',\n",
       " 'Recibido en la ciudad de Manta el día de hoy, jueves 29 de febrero de 2024, a las 10:43, el proceso Tránsito COIP, Tipo de acción: Contravenciones de tránsito por Asunto: 389 contravenciones de tránsito de cuarta clase, inc.1, num. 6, seguido por: Empresa Electrica Publica Estrategica Corporacion Nacional de Electricidad Cnel Ep. Por sorteo de ley la competencia se radica en la UNIDAD JUDICIAL PENAL DE MANTA, conformado por Juez(a): Veliz Indacochea Zoila Janeth Que Reemplaza A Abg. Christian Luvin Quito Carpio. Secretaria(o): Almache Paredes Luis Javier Que Reemplaza A Acosta Vinces Carola. Proceso número: 13284-2024-06765 (1) Primera Instancia, con número de parte P17014487640210Al que se adjunta los siguientes documentos: 1) PETICIÓN INICIAL (ORIGINAL) Total de fojas: 3sr. JORGE RENATO HEREDIA GALLARDO Responsable de sorteo',\n",
       " '29/02/2024 10:43',\n",
       " 'CARATULA DE JUICIO',\n",
       " 'folder',\n",
       " 'CARATULA']"
      ]
     },
     "execution_count": 85,
     "metadata": {},
     "output_type": "execute_result"
    }
   ],
   "source": [
    "nn"
   ]
  },
  {
   "cell_type": "code",
   "execution_count": 69,
   "metadata": {},
   "outputs": [
    {
     "ename": "IndexError",
     "evalue": "list index out of range",
     "output_type": "error",
     "traceback": [
      "\u001b[1;31m---------------------------------------------------------------------------\u001b[0m",
      "\u001b[1;31mIndexError\u001b[0m                                Traceback (most recent call last)",
      "Cell \u001b[1;32mIn[69], line 1\u001b[0m\n\u001b[1;32m----> 1\u001b[0m \u001b[43mdetails\u001b[49m\u001b[43m(\u001b[49m\u001b[43mresultados_finales\u001b[49m\u001b[43m[\u001b[49m\u001b[38;5;241;43m0\u001b[39;49m\u001b[43m]\u001b[49m\u001b[43m[\u001b[49m\u001b[38;5;241;43m1\u001b[39;49m\u001b[43m]\u001b[49m\u001b[43m[\u001b[49m\u001b[38;5;124;43m\"\u001b[39;49m\u001b[38;5;124;43mDetalles 1\u001b[39;49m\u001b[38;5;124;43m\"\u001b[39;49m\u001b[43m]\u001b[49m\u001b[43m)\u001b[49m\n",
      "Cell \u001b[1;32mIn[65], line 11\u001b[0m, in \u001b[0;36mdetails\u001b[1;34m(data)\u001b[0m\n\u001b[0;32m      6\u001b[0m     i \u001b[38;5;241m+\u001b[39m\u001b[38;5;241m=\u001b[39m \u001b[38;5;241m1\u001b[39m\n\u001b[0;32m      7\u001b[0m     \u001b[38;5;28;01mcontinue\u001b[39;00m\n\u001b[0;32m      8\u001b[0m record \u001b[38;5;241m=\u001b[39m {\n\u001b[0;32m      9\u001b[0m     \u001b[38;5;124m\"\u001b[39m\u001b[38;5;124mFecha\u001b[39m\u001b[38;5;124m\"\u001b[39m: data[i],\n\u001b[0;32m     10\u001b[0m     \u001b[38;5;124m\"\u001b[39m\u001b[38;5;124mTipo de Documento\u001b[39m\u001b[38;5;124m\"\u001b[39m: data[i\u001b[38;5;241m+\u001b[39m\u001b[38;5;241m1\u001b[39m],\n\u001b[1;32m---> 11\u001b[0m     \u001b[38;5;124m\"\u001b[39m\u001b[38;5;124mTipo de Archivo\u001b[39m\u001b[38;5;124m\"\u001b[39m: \u001b[43mdata\u001b[49m\u001b[43m[\u001b[49m\u001b[43mi\u001b[49m\u001b[38;5;241;43m+\u001b[39;49m\u001b[38;5;241;43m2\u001b[39;49m\u001b[43m]\u001b[49m,\n\u001b[0;32m     12\u001b[0m     \u001b[38;5;124m\"\u001b[39m\u001b[38;5;124mDescripción\u001b[39m\u001b[38;5;124m\"\u001b[39m: data[i\u001b[38;5;241m+\u001b[39m\u001b[38;5;241m3\u001b[39m]\n\u001b[0;32m     13\u001b[0m }\n\u001b[0;32m     14\u001b[0m records\u001b[38;5;241m.\u001b[39mappend(record)\n\u001b[0;32m     15\u001b[0m i \u001b[38;5;241m+\u001b[39m\u001b[38;5;241m=\u001b[39m \u001b[38;5;241m4\u001b[39m\n",
      "\u001b[1;31mIndexError\u001b[0m: list index out of range"
     ]
    }
   ],
   "source": []
  },
  {
   "cell_type": "code",
   "execution_count": 63,
   "metadata": {},
   "outputs": [],
   "source": [
    "with open(\"prueba3.json\", \"w\", encoding='utf8') as json_file:\n",
    "    json.dump(resultados_finales, json_file, ensure_ascii=False, indent=4)"
   ]
  },
  {
   "cell_type": "code",
   "execution_count": 173,
   "metadata": {},
   "outputs": [
    {
     "data": {
      "text/plain": [
       "{'Número de proceso': '09286202202415G',\n",
       " 'Fecha ingreso': '06/05/2022 11:14',\n",
       " 'Materia': 'CONTRAVENCIONES COIP',\n",
       " 'Tipo de acción': 'DILIGENCIAS PREPROCESALES',\n",
       " 'Delito/Asunto': 'SOLICITUD DE OFICIO',\n",
       " 'Judicatura': 'UNIDAD JUDICIAL NORTE 2 PENAL CON SEDE EN EL CANTÓN GUAYAQUIL, PROVINCIA DEL GUAYAS',\n",
       " 'Tipo de Ingreso': 'Ingreso directo',\n",
       " 'No. proceso vinculado': '',\n",
       " 'Actor/Ofendido:': 'Imveresa Importadora De Vehiculos Y Repuestos S.a.',\n",
       " 'Demandado/Procesado:': ''}"
      ]
     },
     "execution_count": 173,
     "metadata": {},
     "output_type": "execute_result"
    }
   ],
   "source": [
    "data_precessing(resultados[1][1][\"Datos generales 5\"])\n"
   ]
  },
  {
   "cell_type": "code",
   "execution_count": null,
   "metadata": {},
   "outputs": [],
   "source": []
  }
 ],
 "metadata": {
  "kernelspec": {
   "display_name": "venprueba",
   "language": "python",
   "name": "python3"
  },
  "language_info": {
   "codemirror_mode": {
    "name": "ipython",
    "version": 3
   },
   "file_extension": ".py",
   "mimetype": "text/x-python",
   "name": "python",
   "nbconvert_exporter": "python",
   "pygments_lexer": "ipython3",
   "version": "3.10.11"
  }
 },
 "nbformat": 4,
 "nbformat_minor": 2
}
